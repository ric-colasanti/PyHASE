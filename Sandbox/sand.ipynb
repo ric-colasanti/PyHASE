{
 "cells": [
  {
   "cell_type": "code",
   "execution_count": 4,
   "metadata": {},
   "outputs": [],
   "source": [
    "import random as rnd\n",
    "\n",
    "def rgb(n):\n",
    "    d = 255\n",
    "    rgb=[]\n",
    "    for i in range(3):\n",
    "        x = n%d\n",
    "        rgb.append(int(x/d*255))\n",
    "        n = n-x\n",
    "        d=d*255\n",
    "    print(rgb)"
   ]
  },
  {
   "cell_type": "code",
   "execution_count": 6,
   "metadata": {},
   "outputs": [
    {
     "name": "stdout",
     "output_type": "stream",
     "text": [
      "[21, 159, 233]\n",
      "[51, 133, 206]\n",
      "[146, 131, 73]\n",
      "[66, 10, 159]\n",
      "[213, 216, 66]\n",
      "[192, 251, 94]\n",
      "[148, 148, 236]\n",
      "[48, 37, 220]\n",
      "[194, 247, 195]\n",
      "[73, 9, 188]\n"
     ]
    }
   ],
   "source": [
    "for i in range(10):\n",
    "    rgb(int(255*255*255* rnd.random()))"
   ]
  },
  {
   "cell_type": "markdown",
   "metadata": {},
   "source": []
  },
  {
   "cell_type": "code",
   "execution_count": null,
   "metadata": {},
   "outputs": [],
   "source": []
  }
 ],
 "metadata": {
  "kernelspec": {
   "display_name": "Python 3.8.10 ('Env')",
   "language": "python",
   "name": "python3"
  },
  "language_info": {
   "codemirror_mode": {
    "name": "ipython",
    "version": 3
   },
   "file_extension": ".py",
   "mimetype": "text/x-python",
   "name": "python",
   "nbconvert_exporter": "python",
   "pygments_lexer": "ipython3",
   "version": "3.8.10"
  },
  "orig_nbformat": 4,
  "vscode": {
   "interpreter": {
    "hash": "b4c315a2befbdc4a8ba38271e4cea9c97595d1c9b9b579b97fbe1c7edb376633"
   }
  }
 },
 "nbformat": 4,
 "nbformat_minor": 2
}
