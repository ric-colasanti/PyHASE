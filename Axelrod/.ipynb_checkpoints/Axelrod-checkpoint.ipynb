{
 "cells": [
  {
   "cell_type": "markdown",
   "metadata": {
    "id": "e_l8mwR7f-VR"
   },
   "source": [
    "# Important\n",
    " \n",
    "**You have to have to be signed in to a google account**\n",
    " \n",
    "**Does not work properly with Firefox browser use Chrome or Edge**\n",
    " \n",
    "**To initialise the simulation first select Run all from Runtime menu**\n",
    "\n",
    "\n",
    "After you have done that and read the description below go to bottom of the page to set up and run the simulation"
   ]
  },
  {
   "cell_type": "markdown",
   "metadata": {
    "id": "Zo8lO3_oDrvf"
   },
   "source": [
    "\n",
    "#Network Norm Model\n",
    "Ths is part of the [Network Norm Model](https://ric-colasanti.github.io/Methods/NNM/index.html) for ASPIRE\n",
    "\n",
    "A computational model of changes in energy balance and obesity influenced by the modification of social networks brought about by unemploymen\n",
    "\n",
    "## Agent based model (ABM)\n",
    "ABM are where persons (or agents) in a society are modeled as individuals within a computer program. The behaviour of the complete system emerges from the interaction of the agents with their environment and with each other. One of the earliest sociology ABMs is that deals with inter agent influence is Axerod's model of the dissemination of Culture\n",
    "\n",
    "\n",
    "## Axerod's model of the dissemination of culture\n",
    "\n",
    "The Axelrod model is a model of Social influence is where a person becomes more like a person they are linked to. It models the social convergence of culture. Unlike the Shelling mode each agent is static in its own cell of a two dimensional matrix. Each agent can see four neighbours/contacts. North East South and West of the cell that it occupies. Note that an agent does not share any contacts with any of its contacts,contacts. Each agents culture is represented as a set of  5 features. Each feature is described by a single trait. An agents similarity to any of its contacts is measured by how many  features that each has that have the same trait. For example if agent A has a feature set [5,2,7,4,6] and its contact to the North has the feature set [2,8,7,7,3] then the two agents share the same trait at feature 3 ( both are trait 7) so have a similarity of ⅕ or 20%.\n",
    "\n",
    "An agent will influence another agent in direct proportion to their similarity. When one agent does influence the other a random feature is chosen and the traits of both the agents for that feature are made equal. So for agent A and agent B above there is a 20% chance they will interact. A's feature set will change from [5,2,7,4,6] to [5,2,7,7,6]. Note that there is now a 40% similarity.\n",
    "\n",
    "In the simulation below the different sets of features are represented by a single color. Similar feature sets have similar colors. Over a number of iterations the random patchwork of colors converges on blocks of similar colors as groups of agents converge on similar a culture.\n",
    "### Rules\n",
    " \n",
    "\n",
    "\n",
    "1.  Select agent at random\n",
    "1.   Select one of the agents neighbours at random\n",
    "2.   Calculate the similarity between the two agents.\n",
    "1.   As a function of the two agent’s similarity determine if the two agents will interact.\n",
    "2.   If the agents do interact randomly pick a feature and for the randomly chosen agent set the trait of that feature to the same value as that of its selected neighbour\n",
    "\n",
    "\n",
    "\n",
    "\n",
    "\n",
    "\n",
    "\n",
    "\n",
    " \n",
    "\n"
   ]
  },
  {
   "cell_type": "code",
   "execution_count": 1,
   "metadata": {
    "id": "A_M83Bi7tDJO"
   },
   "outputs": [],
   "source": [
    "import random as rnd\n",
    "import matplotlib.pyplot as plt\n",
    "from matplotlib import colors\n",
    "from IPython.display import clear_output\n",
    "from time import sleep\n",
    "import ipywidgets as widgets\n",
    "from matplotlib.colors import ListedColormap\n",
    "import math\n",
    "\n",
    "\n"
   ]
  },
  {
   "cell_type": "code",
   "execution_count": 2,
   "metadata": {
    "id": "Jrqc7SvOkzDI"
   },
   "outputs": [],
   "source": [
    "class Cell:\n",
    "    def __init__(self,x,y):\n",
    "        self.neighbours = []\n",
    "        self.xPos = x\n",
    "        self.yPos = y\n",
    "        self.occupant = None\n",
    "        self.number_neighbours =-1\n",
    "\n",
    "    def addNeighbour(self,cell):\n",
    "        self.neighbours.append(cell)\n",
    "        self.number_neighbours+=1"
   ]
  },
  {
   "cell_type": "code",
   "execution_count": 3,
   "metadata": {
    "id": "pl1nB0lZh4sB"
   },
   "outputs": [],
   "source": [
    "class Agent:\n",
    "    features = 3\n",
    "    def __init__(self,home):\n",
    "        self.home = home\n",
    "        self.culture =[rnd.randint(0,9) for i in range(Agent.features)]\n",
    "        self.happy = False\n",
    "\n",
    "    def similarity(self,agent):\n",
    "        count = 0\n",
    "        for i in range(Agent.features):\n",
    "            if agent.culture[i] == self.culture[i]:\n",
    "                count+=1\n",
    "        return count/Agent.features\n",
    "\n",
    "    def dissemination(self):\n",
    "        cell = rnd.choice(self.home.neighbours)\n",
    "        agent = cell.occupant\n",
    "        if rnd.random() < self.similarity(agent):\n",
    "            trait = rnd.randint(0,Agent.features-1)\n",
    "            self.culture[trait]=agent.culture[trait]\n",
    "\n",
    "    def averageSim(self):\n",
    "        count=0\n",
    "        for n in self.home.neighbours:\n",
    "            count+= self.similarity(n.occupant)\n",
    "        return count/4\n",
    "            \n",
    "\n",
    "\n"
   ]
  },
  {
   "cell_type": "code",
   "execution_count": 4,
   "metadata": {
    "id": "Nm_uhNwrlyev"
   },
   "outputs": [],
   "source": [
    "class Experiment:\n",
    "    def __init__(self,size):        \n",
    "        self.cells = []\n",
    "        self.agents = []\n",
    "        self.size = size\n",
    "        self.total_cells = size*size -1\n",
    "        self.total_agents = -1\n",
    "    \n",
    "    def setUp(self):\n",
    "        self.cells = []\n",
    "        for i in range(self.size*self.size):\n",
    "            cell = Cell(int(i/self.size),(i%self.size))\n",
    "            self.cells.append(cell)\n",
    "            agent = Agent(cell)\n",
    "            self.total_agents+=1\n",
    "            self.agents.append(agent)\n",
    "            cell.occupant = agent\n",
    "            agent.home = cell\n",
    "        for cell in self.cells:\n",
    "            y1 = self.bounds(cell.yPos-1)\n",
    "            y2 = self.bounds(cell.yPos+1)\n",
    "            x1 = self.bounds(cell.xPos-1)\n",
    "            x2 = self.bounds(cell.xPos+1)\n",
    "            pos1 = x1*self.size+cell.yPos\n",
    "            cell.addNeighbour(self.cells[pos1])\n",
    "            pos2 = x2*self.size+cell.yPos\n",
    "            cell.addNeighbour(self.cells[pos2])\n",
    "            pos3 = cell.xPos*self.size+y1\n",
    "            cell.addNeighbour(self.cells[pos3])\n",
    "            pos4 = cell.xPos*self.size+y2\n",
    "            cell.addNeighbour(self.cells[pos4])\n",
    "                    \n",
    "        \n",
    "       \n",
    "    def bounds(self,i):\n",
    "        if i<0:\n",
    "            return self.size + i \n",
    "        if i>=self.size:\n",
    "            return i-self.size\n",
    "        return i\n",
    "        \n",
    "\n",
    "\n",
    "           \n",
    "    def getResultMatrix(self):\n",
    "        aset = set()\n",
    "        res = [[0 for _ in range(self.size)  ] for _ in range(self.size)]\n",
    "        sim = [[0 for _ in range(self.size)  ] for _ in range(self.size)]\n",
    "        for cell in self.cells:\n",
    "            x = cell.xPos\n",
    "            y = cell.yPos\n",
    "            id = 0\n",
    "            agent = cell.occupant\n",
    "            base = 10**(Agent.features-1)\n",
    "            c = 0\n",
    "            for s in agent.culture:\n",
    "                id+=agent.culture[c]* base\n",
    "                base = base/10\n",
    "                c+=1\n",
    "            res[x][y]= id  \n",
    "            aset.add(id)\n",
    "            sim[x][y]=agent.averageSim()  \n",
    "        return res, sim,len(aset)\n",
    "\n",
    "        \n",
    "    def run(self,iterations):\n",
    "        time =[]\n",
    "        data=[]\n",
    "        states = 10**Agent.features\n",
    "        y = math.ceil(states**(1/3))\n",
    "        cols = []\n",
    "        for r in range(y):\n",
    "            for g in range(y):\n",
    "                for b in range(y):\n",
    "                    cols.append([r/y,g/y,b/y])\n",
    "        cmap = ListedColormap( cols)\n",
    "        for t in range(iterations):\n",
    "            time.append(t)\n",
    "            for _ in range(self.size * self.size):\n",
    "                agent = rnd.choice(self.agents)\n",
    "                agent.dissemination()\n",
    "            res,sim,sets = self.getResultMatrix()\n",
    "            data.append(sets)\n",
    "            plt.rcParams[\"figure.figsize\"] = (20,5)  \n",
    "            clear_output(wait=True)\n",
    "        \n",
    "            plt.subplot(1,3,1)\n",
    "            plt.imshow(res,cmap=cmap,vmax=states,vmin=0)\n",
    "            plt.axis('off')\n",
    "\n",
    "            plt.subplot(1,3,2)\n",
    "            plt.imshow(sim) \n",
    "            plt.colorbar(ticks=range(1), label='Average Similarity')\n",
    "            plt.axis('off')\n",
    "            plt.subplot(1, 3, 3)\n",
    "            plt.xlim([0,iterations])\n",
    "            plt.ylim([0,self.size*self.size+10])\n",
    "            plt.plot(time,data)\n",
    "            plt.xlabel(\"Iterations\")\n",
    "            plt.ylabel(\"Cultures\")\n",
    "            \n",
    "            plt.show()\n",
    "\n",
    "        \n",
    "\n",
    "        print(\"done\")\n",
    "\n",
    "    \n",
    "     \n",
    "            \n",
    "      "
   ]
  },
  {
   "cell_type": "code",
   "execution_count": 5,
   "metadata": {
    "colab": {
     "base_uri": "https://localhost:8080/"
    },
    "id": "WNnxjTx8Viwx",
    "outputId": "e1341818-766e-4957-cbde-bf16a23a0983"
   },
   "outputs": [
    {
     "name": "stdout",
     "output_type": "stream",
     "text": [
      "Select the number of iterations. Note that this is multiples of 100\n",
      "Note that when selecting 5 or more features there will be s slight delay in running as the large color map has to be generated\n",
      "The rate at which a dominant culture occurs, and sub dominant but stable cultures coexist is dependant on \n",
      "the number of features that describe a, the size of the world and the number of iterations\n",
      "\n"
     ]
    },
    {
     "data": {
      "application/vnd.jupyter.widget-view+json": {
       "model_id": "56dfa33bae1a43809c6ddfb6495d76ee",
       "version_major": 2,
       "version_minor": 0
      },
      "text/plain": [
       "VBox(children=(IntSlider(value=100, description='Iteration', max=2000, step=100), IntSlider(value=10, descript…"
      ]
     },
     "metadata": {},
     "output_type": "display_data"
    },
    {
     "data": {
      "application/vnd.jupyter.widget-view+json": {
       "model_id": "3c342a27ebd940559b0d239bd3c224b9",
       "version_major": 2,
       "version_minor": 0
      },
      "text/plain": [
       "VBox(children=(Button(description='Run', style=ButtonStyle()), Output()))"
      ]
     },
     "metadata": {},
     "output_type": "display_data"
    }
   ],
   "source": [
    "def on_button_clicked(_):\n",
    "      with out:\n",
    "          experiment = Experiment(slider2.value)\n",
    "          Agent.features = slider3.value\n",
    "          experiment.setUp()\n",
    "          experiment.run(slider1.value)\n",
    "\n",
    "print(\"Select the number of iterations. Note that this is multiples of 100\")\n",
    "print(\"Note that when selecting 5 or more features there will be s slight delay in running as the large color map has to be generated\")\n",
    "print(\"The rate at which a dominant culture occurs, and sub dominant but stable cultures coexist is dependant on \")\n",
    "print(\"the number of features that describe a, the size of the world and the number of iterations\")\n",
    "\n",
    "print()\n",
    "button = widgets.Button(description='Run')\n",
    "out = widgets.Output()\n",
    "slider1 = widgets.IntSlider(description=\"Iteration\")\n",
    "slider1.value = 100\n",
    "slider1.step=100\n",
    "slider1.max=2000\n",
    "\n",
    "slider2 = widgets.IntSlider(description=\"Size\")\n",
    "slider2.value = 10\n",
    "slider2.step = 1\n",
    "slider2.max=30\n",
    "\n",
    "slider3 = widgets.IntSlider(description=\"Features\")\n",
    "slider3.value = 3\n",
    "slider3.max=6\n",
    "\n",
    "input_widgets_t = widgets.VBox(\n",
    "[slider1,slider2,slider3])\n",
    "display(input_widgets_t)\n",
    "button.on_click(on_button_clicked)\n",
    "widgets.VBox([button,out])"
   ]
  },
  {
   "cell_type": "code",
   "execution_count": null,
   "metadata": {
    "id": "bMvMmpb0NO5R"
   },
   "outputs": [],
   "source": []
  }
 ],
 "metadata": {
  "colab": {
   "collapsed_sections": [],
   "provenance": []
  },
  "kernelspec": {
   "display_name": "Python 3 (ipykernel)",
   "language": "python",
   "name": "python3"
  },
  "language_info": {
   "codemirror_mode": {
    "name": "ipython",
    "version": 3
   },
   "file_extension": ".py",
   "mimetype": "text/x-python",
   "name": "python",
   "nbconvert_exporter": "python",
   "pygments_lexer": "ipython3",
   "version": "3.8.10"
  },
  "vscode": {
   "interpreter": {
    "hash": "b4c315a2befbdc4a8ba38271e4cea9c97595d1c9b9b579b97fbe1c7edb376633"
   }
  }
 },
 "nbformat": 4,
 "nbformat_minor": 1
}
