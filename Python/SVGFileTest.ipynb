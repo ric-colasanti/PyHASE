{
  "nbformat": 4,
  "nbformat_minor": 0,
  "metadata": {
    "colab": {
      "name": "SVGFileTest.ipynb",
      "provenance": []
    },
    "kernelspec": {
      "name": "python3",
      "display_name": "Python 3"
    },
    "language_info": {
      "name": "python"
    }
  },
  "cells": [
    {
      "cell_type": "code",
      "execution_count": 1,
      "metadata": {
        "id": "wVinUIj6rn34"
      },
      "outputs": [],
      "source": [
        "from svg import *\n",
        "import time\n"
      ]
    },
    {
      "cell_type": "code",
      "source": [
        "svg = SVGCanvas(600,600,30)\n",
        "for i in range(4):\n",
        "    clear_output(wait=True)\n",
        "    svg.clear()\n",
        "    svg.addRect(9,0,'rgb(255, 99, 71)')\n",
        "    svg.addRect(5,5,'rgb(255, 99, 71)')\n",
        "    svg.addCircle(i,i,'blue')\n",
        "    display(svg.getCanvas())\n",
        "    time.sleep(1)"
      ],
      "metadata": {
        "colab": {
          "base_uri": "https://localhost:8080/",
          "height": 623
        },
        "id": "oI-VDT6HruKZ",
        "outputId": "83f87673-1f85-45e8-af20-f380c3986141"
      },
      "execution_count": 2,
      "outputs": [
        {
          "output_type": "display_data",
          "data": {
            "text/plain": [
              "<IPython.core.display.HTML object>"
            ],
            "text/html": [
              "<svg width=\"600\" height=\"600\"style=\"border:1px solid black\"><rect x=\"180\" y=\"0\" width=\"20\" height=\"20\" fill=\"rgb(255, 99, 71)\"/><rect x=\"100\" y=\"100\" width=\"20\" height=\"20\" fill=\"rgb(255, 99, 71)\"/><circle cx=\"70\" cy=\"70\" r=\"10\" fill=\"blue\"/></svg>"
            ]
          },
          "metadata": {}
        }
      ]
    },
    {
      "cell_type": "code",
      "source": [
        ""
      ],
      "metadata": {
        "id": "-IB_lVq8sUcX"
      },
      "execution_count": null,
      "outputs": []
    }
  ]
}