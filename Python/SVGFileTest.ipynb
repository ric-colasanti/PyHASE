{
  "cells": [
    {
      "cell_type": "code",
      "execution_count": 1,
      "metadata": {
        "id": "wVinUIj6rn34"
      },
      "outputs": [],
      "source": [
        "from svg import *\n",
        "import time\n"
      ]
    },
    {
      "cell_type": "code",
      "execution_count": 2,
      "metadata": {
        "colab": {
          "base_uri": "https://localhost:8080/",
          "height": 623
        },
        "id": "oI-VDT6HruKZ",
        "outputId": "83f87673-1f85-45e8-af20-f380c3986141"
      },
      "outputs": [
        {
          "data": {
            "text/html": [
              "<svg width=\"600\" height=\"600\"style=\"border:1px solid black\"><rect x=\"180\" y=\"0\" width=\"20\" height=\"20\" fill=\"rgb(255, 99, 71)\"/><rect x=\"100\" y=\"100\" width=\"20\" height=\"20\" fill=\"rgb(255, 99, 71)\"/><circle cx=\"70\" cy=\"70\" r=\"10\" fill=\"blue\"/></svg>"
            ],
            "text/plain": [
              "<IPython.core.display.HTML object>"
            ]
          },
          "metadata": {},
          "output_type": "display_data"
        }
      ],
      "source": [
        "svg = SVGCanvas(600,600,30)\n",
        "for i in range(4):\n",
        "    clear_output(wait=True)\n",
        "    svg.clear()\n",
        "    svg.addRect(9,0,'rgb(255, 99, 71)')\n",
        "    svg.addRect(5,5,'rgb(255, 99, 71)')\n",
        "    svg.addCircle(i,i,'blue')\n",
        "    display(svg.getCanvas())\n",
        "    time.sleep(1)"
      ]
    },
    {
      "cell_type": "code",
      "execution_count": null,
      "metadata": {
        "id": "-IB_lVq8sUcX"
      },
      "outputs": [],
      "source": []
    }
  ],
  "metadata": {
    "colab": {
      "name": "SVGFileTest.ipynb",
      "provenance": []
    },
    "kernelspec": {
      "display_name": "Python 3.8.10 ('Env')",
      "language": "python",
      "name": "python3"
    },
    "language_info": {
      "codemirror_mode": {
        "name": "ipython",
        "version": 3
      },
      "file_extension": ".py",
      "mimetype": "text/x-python",
      "name": "python",
      "nbconvert_exporter": "python",
      "pygments_lexer": "ipython3",
      "version": "3.8.10"
    },
    "vscode": {
      "interpreter": {
        "hash": "b4c315a2befbdc4a8ba38271e4cea9c97595d1c9b9b579b97fbe1c7edb376633"
      }
    }
  },
  "nbformat": 4,
  "nbformat_minor": 0
}
